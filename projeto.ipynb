{
  "nbformat": 4,
  "nbformat_minor": 0,
  "metadata": {
    "colab": {
      "name": "projeto.ipynb",
      "provenance": []
    },
    "kernelspec": {
      "name": "python3",
      "display_name": "Python 3"
    },
    "accelerator": "GPU"
  },
  "cells": [
    {
      "cell_type": "code",
      "metadata": {
        "id": "-7JWHYPEHoI3"
      },
      "source": [
        "#Instalação do tf model maker para criar o modelo\n",
        "!pip install tflite-model-maker"
      ],
      "execution_count": null,
      "outputs": []
    },
    {
      "cell_type": "code",
      "metadata": {
        "id": "aUlq1EwdINWC"
      },
      "source": [
        "#Importação dos pacotes necessários\n",
        "import numpy as np\n",
        "\n",
        "import tensorflow as tf\n",
        "assert tf.__version__.startswith('2')\n",
        "\n",
        "from tflite_model_maker import configs\n",
        "from tflite_model_maker import ExportFormat\n",
        "from tflite_model_maker import image_classifier\n",
        "from tflite_model_maker import ImageClassifierDataLoader\n",
        "from tflite_model_maker import model_spec\n",
        "\n",
        "import matplotlib.pyplot as plt"
      ],
      "execution_count": null,
      "outputs": []
    },
    {
      "cell_type": "code",
      "metadata": {
        "id": "rFk9wx9OIoV8"
      },
      "source": [
        "image_path = #Inserir aqui o caminho da pasta com as imagens após montar o google drive no proprio Colab ou fazer upload do computador para o Colab"
      ],
      "execution_count": null,
      "outputs": []
    },
    {
      "cell_type": "code",
      "metadata": {
        "id": "UhYMQN8GKehm"
      },
      "source": [
        "#Dividindo-o em dados de treinamento e dados de teste.\n",
        "\n",
        "data = ImageClassifierDataLoader.from_folder(image_path)\n",
        "train_data, test_data = data.split(0.9)"
      ],
      "execution_count": null,
      "outputs": []
    },
    {
      "cell_type": "code",
      "metadata": {
        "id": "w7SlrSU_MIKp"
      },
      "source": [
        "model = image_classifier.create(train_data)"
      ],
      "execution_count": null,
      "outputs": []
    },
    {
      "cell_type": "code",
      "metadata": {
        "id": "oYp2JLhoMbfB"
      },
      "source": [
        "loss, accuracy = model.evaluate(test_data)"
      ],
      "execution_count": null,
      "outputs": []
    },
    {
      "cell_type": "code",
      "metadata": {
        "id": "18F-pUTrRPV1"
      },
      "source": [
        "#Exportação do modelo, pode baixá-lo na barra lateral esquerda da mesma forma que a parte de upload para seu próprio uso.\n",
        "\n",
        "model.export(export_dir='.')"
      ],
      "execution_count": null,
      "outputs": []
    }
  ]
}
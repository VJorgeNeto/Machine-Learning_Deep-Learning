{
  "nbformat": 4,
  "nbformat_minor": 0,
  "metadata": {
    "colab": {
      "name": "Regressão_Linear_Simples.ipynb",
      "private_outputs": true,
      "provenance": [],
      "authorship_tag": "ABX9TyPa/tUyNJbSzJfEPeQ1tvEe",
      "include_colab_link": true
    },
    "kernelspec": {
      "name": "python3",
      "display_name": "Python 3"
    }
  },
  "cells": [
    {
      "cell_type": "markdown",
      "metadata": {
        "id": "view-in-github",
        "colab_type": "text"
      },
      "source": [
        "<a href=\"https://colab.research.google.com/github/VJorgeNeto/Machine-Learning_Deep-Learning/blob/main/Regress%C3%A3o_Linear_Simples.ipynb\" target=\"_parent\"><img src=\"https://colab.research.google.com/assets/colab-badge.svg\" alt=\"Open In Colab\"/></a>"
      ]
    },
    {
      "cell_type": "markdown",
      "metadata": {
        "id": "McDkeXFQjwE-"
      },
      "source": [
        "#Regressão linear simples"
      ]
    },
    {
      "cell_type": "markdown",
      "metadata": {
        "id": "Uqjfd7emj8Dt"
      },
      "source": [
        "Impotação de pacotes necessários"
      ]
    },
    {
      "cell_type": "code",
      "metadata": {
        "id": "hfDIlMZgj2A9"
      },
      "source": [
        "import matplotlib.pyplot as plt\n",
        "import pandas as pd\n",
        "import pylab as pl\n",
        "import numpy as np\n",
        "%matplotlib inline"
      ],
      "execution_count": null,
      "outputs": []
    },
    {
      "cell_type": "markdown",
      "metadata": {
        "id": "OFK2oxxZklI8"
      },
      "source": [
        "Baixando dados do IBM Object Storage."
      ]
    },
    {
      "cell_type": "code",
      "metadata": {
        "id": "ySqCZ0aNkWCN"
      },
      "source": [
        "!wget -O FuelConsumption.csv https://cf-courses-data.s3.us.cloud-object-storage.appdomain.cloud/IBMDeveloperSkillsNetwork-ML0101EN-Coursera/labs/Data_files/FuelConsumptionCo2.csv"
      ],
      "execution_count": null,
      "outputs": []
    },
    {
      "cell_type": "markdown",
      "metadata": {
        "id": "-fzeKOJvlESI"
      },
      "source": [
        "Leitura dos dados"
      ]
    },
    {
      "cell_type": "code",
      "metadata": {
        "id": "-BzS-ImwkqFV"
      },
      "source": [
        "df = pd.read_csv(\"FuelConsumption.csv\")\n",
        "df.head()"
      ],
      "execution_count": null,
      "outputs": []
    },
    {
      "cell_type": "markdown",
      "metadata": {
        "id": "RpBiar5Qlkle"
      },
      "source": [
        "Exploração de dados: exploração descritiva"
      ]
    },
    {
      "cell_type": "code",
      "metadata": {
        "id": "L9h3ZmrllanQ"
      },
      "source": [
        "df.describe()"
      ],
      "execution_count": null,
      "outputs": []
    },
    {
      "cell_type": "markdown",
      "metadata": {
        "id": "Zj_ZqSvgl1Nu"
      },
      "source": [
        "Selecionando alguns recursos para explorar mais."
      ]
    },
    {
      "cell_type": "code",
      "metadata": {
        "id": "3s0CMyz0ltk2"
      },
      "source": [
        "cdf = df[['ENGINESIZE','CYLINDERS','FUELCONSUMPTION_COMB','CO2EMISSIONS']]\n",
        "cdf.head(9)"
      ],
      "execution_count": null,
      "outputs": []
    },
    {
      "cell_type": "markdown",
      "metadata": {
        "id": "O4pfVFg0m_kS"
      },
      "source": [
        "Plotagem destes recursos"
      ]
    },
    {
      "cell_type": "code",
      "metadata": {
        "id": "shqq5LtkmuJY"
      },
      "source": [
        "viz = cdf[['CYLINDERS','ENGINESIZE','CO2EMISSIONS','FUELCONSUMPTION_COMB']]\n",
        "viz.hist()\n",
        "plt.show()"
      ],
      "execution_count": null,
      "outputs": []
    },
    {
      "cell_type": "markdown",
      "metadata": {
        "id": "RLw4vD-UnOeN"
      },
      "source": [
        "Plotagem de cada um desses recursos versus a Emissão, para ver o quão linear é sua relação: "
      ]
    },
    {
      "cell_type": "code",
      "metadata": {
        "id": "WIEBK6dOm7-I"
      },
      "source": [
        "plt.scatter(cdf.FUELCONSUMPTION_COMB, cdf.CO2EMISSIONS,  color='blue')\n",
        "plt.xlabel(\"FUELCONSUMPTION_COMB\")\n",
        "plt.ylabel(\"Emission\")\n",
        "plt.show()"
      ],
      "execution_count": null,
      "outputs": []
    },
    {
      "cell_type": "code",
      "metadata": {
        "id": "fjmG6gCfnox4"
      },
      "source": [
        "plt.scatter(cdf.ENGINESIZE, cdf.CO2EMISSIONS,  color='blue')\n",
        "plt.xlabel(\"Engine size\")\n",
        "plt.ylabel(\"Emission\")\n",
        "plt.show()"
      ],
      "execution_count": null,
      "outputs": []
    },
    {
      "cell_type": "code",
      "metadata": {
        "id": "x_qiE0qgn8dw"
      },
      "source": [
        "plt.scatter(cdf.CYLINDERS, cdf.CO2EMISSIONS, color='blue')\n",
        "plt.xlabel(\"Cylinders\")\n",
        "plt.ylabel(\"Emission\")\n",
        "plt.show()"
      ],
      "execution_count": null,
      "outputs": []
    },
    {
      "cell_type": "markdown",
      "metadata": {
        "id": "HCJq___ypNgy"
      },
      "source": [
        "##Criação de conjunto de dados de treinamento e teste"
      ]
    },
    {
      "cell_type": "markdown",
      "metadata": {
        "id": "5yD4_ZWup2aW"
      },
      "source": [
        "Divisão do conjunto de dados em conjuntos de treinamento e teste, 80% de todos os dados para treinamento e 20% para teste. Para isso será criada uma máscara para selecionar linhas aleatórias usando a função np.random.rand (): "
      ]
    },
    {
      "cell_type": "code",
      "metadata": {
        "id": "eeS7zfR9o_nH"
      },
      "source": [
        "msk = np.random.rand(len(df)) < 0.8\n",
        "train = cdf[msk]\n",
        "test = cdf[~msk]"
      ],
      "execution_count": null,
      "outputs": []
    },
    {
      "cell_type": "markdown",
      "metadata": {
        "id": "4jeHqDiNqvup"
      },
      "source": [
        "##Modelo de Regressão Simples"
      ]
    },
    {
      "cell_type": "markdown",
      "metadata": {
        "id": "1DPPiHA0q6FW"
      },
      "source": [
        "A Regressão Linear ajusta um modelo linear com coeficientes 𝜃 = (𝜃1, ..., 𝜃𝑛) para minimizar a 'soma residual dos quadrados' entre o x independente no conjunto de dados e o y dependente pela aproximação linear."
      ]
    },
    {
      "cell_type": "code",
      "metadata": {
        "id": "iVoixgFvqfZs"
      },
      "source": [
        "#Distribuição de dados de treinamento\n",
        "plt.scatter(train.ENGINESIZE, train.CO2EMISSIONS,  color='blue')\n",
        "plt.xlabel(\"Engine size\")\n",
        "plt.ylabel(\"Emission\")\n",
        "plt.show()"
      ],
      "execution_count": null,
      "outputs": []
    },
    {
      "cell_type": "markdown",
      "metadata": {
        "id": "nqX83sNirJxO"
      },
      "source": [
        "##Modelagem\n",
        "Usando o pacote sklearn para modelar dados.\n",
        "\n",
        "---\n",
        "\n"
      ]
    },
    {
      "cell_type": "code",
      "metadata": {
        "id": "vQFkAIxMrDrT"
      },
      "source": [
        "from sklearn import linear_model\n",
        "regr = linear_model.LinearRegression()\n",
        "train_x = np.asanyarray(train[['ENGINESIZE']])\n",
        "train_y = np.asanyarray(train[['CO2EMISSIONS']])\n",
        "regr.fit (train_x, train_y)\n",
        "#Os coeficientes\n",
        "print ('Coefficients: ', regr.coef_)\n",
        "print ('Intercept: ',regr.intercept_)"
      ],
      "execution_count": null,
      "outputs": []
    },
    {
      "cell_type": "markdown",
      "metadata": {
        "id": "z2RtIZQ7skTI"
      },
      "source": [
        "o coeficiente e a interceptação na regressão linear simples são os parâmetros da linha de ajuste"
      ]
    },
    {
      "cell_type": "markdown",
      "metadata": {
        "id": "y77oX6FSsxAL"
      },
      "source": [
        "##Saídas de plotagem\n",
        "Traçando a linha de ajuste sobre os dados"
      ]
    },
    {
      "cell_type": "code",
      "metadata": {
        "id": "x0aOJIcpsQsQ"
      },
      "source": [
        "plt.scatter(train.ENGINESIZE, train.CO2EMISSIONS,  color='blue')\n",
        "plt.plot(train_x, regr.coef_[0][0]*train_x + regr.intercept_[0], '-r')\n",
        "plt.xlabel(\"Engine size\")\n",
        "plt.ylabel(\"Emission\")"
      ],
      "execution_count": null,
      "outputs": []
    },
    {
      "cell_type": "markdown",
      "metadata": {
        "id": "Q3OQBMEVtGZB"
      },
      "source": [
        "##Avaliação\n",
        "Será utilizado o MSE aqui para calcular a precisão do modelo com base no conjunto de teste:\n",
        "\n",
        "Erro médio absoluto: É a média do valor absoluto dos erros. Esta é a métrica mais fácil de entender, pois é apenas um erro médio.\n",
        "Erro médio quadrático (MSE): Erro quadrático médio (MSE) é a média do erro quadrático. É mais popular do que o erro absoluto médio porque o foco é mais voltado para erros grandes. Isso se deve ao fato do termo quadrático aumentar exponencialmente os erros maiores em comparação com os menores.\n",
        "Root Mean Square Error (RMSE): Esta é a raiz quadrada do erro médio quadrático."
      ]
    },
    {
      "cell_type": "markdown",
      "metadata": {
        "id": "Ze6I7x4Ct6pD"
      },
      "source": [
        "R-quadrático não é um erro, mas é uma métrica popular para a precisão do seu modelo. Ele representa o quão próximos os dados estão da linha de regressão ajustada. Quanto mais alto o R quadrado, melhor o modelo se ajusta aos seus dados. A melhor pontuação possível é 1,0 e pode ser negativa (porque o modelo pode ser arbitrariamente pior). "
      ]
    },
    {
      "cell_type": "code",
      "metadata": {
        "id": "JnDMPigYs6nl"
      },
      "source": [
        "from sklearn.metrics import r2_score\n",
        "\n",
        "test_x = np.asanyarray(test[['ENGINESIZE']])\n",
        "test_y = np.asanyarray(test[['CO2EMISSIONS']])\n",
        "test_y_hat = regr.predict(test_x)\n",
        "\n",
        "print(\"Mean absolute error: %.2f\" % np.mean(np.absolute(test_y_hat - test_y)))\n",
        "print(\"Residual sum of squares (MSE): %.2f\" % np.mean((test_y_hat - test_y) ** 2))\n",
        "print(\"R2-score: %.2f\" % r2_score(test_y_hat , test_y) )"
      ],
      "execution_count": null,
      "outputs": []
    },
    {
      "cell_type": "code",
      "metadata": {
        "id": "2rHo6vbBuB53"
      },
      "source": [
        ""
      ],
      "execution_count": null,
      "outputs": []
    }
  ]
}
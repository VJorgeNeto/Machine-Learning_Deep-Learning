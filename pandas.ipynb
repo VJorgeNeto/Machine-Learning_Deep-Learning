{
  "nbformat": 4,
  "nbformat_minor": 0,
  "metadata": {
    "colab": {
      "private_outputs": true,
      "provenance": [],
      "mount_file_id": "1DQJAk_Hm-MhD7dLNTavtpuPils3vfBD9",
      "authorship_tag": "ABX9TyPZXFbLHtKujVL7Q6oOnMyO",
      "include_colab_link": true
    },
    "kernelspec": {
      "name": "python3",
      "display_name": "Python 3"
    },
    "language_info": {
      "name": "python"
    }
  },
  "cells": [
    {
      "cell_type": "markdown",
      "metadata": {
        "id": "view-in-github",
        "colab_type": "text"
      },
      "source": [
        "<a href=\"https://colab.research.google.com/github/VJorgeNeto/Machine-Learning_Deep-Learning/blob/main/pandas.ipynb\" target=\"_parent\"><img src=\"https://colab.research.google.com/assets/colab-badge.svg\" alt=\"Open In Colab\"/></a>"
      ]
    },
    {
      "cell_type": "markdown",
      "source": [
        "## Python para análise de dados (Pandas)"
      ],
      "metadata": {
        "id": "NnS5Rl5Ue7QA"
      }
    },
    {
      "cell_type": "code",
      "execution_count": null,
      "metadata": {
        "id": "eEMzR5f_diu0"
      },
      "outputs": [],
      "source": [
        "import pandas as pd \n",
        "# Importação"
      ]
    },
    {
      "cell_type": "markdown",
      "source": [
        " Criar variável para armazenar os dados (df é abreviação de dataframe, o dataframe trabalha com linhas e colunas)"
      ],
      "metadata": {
        "id": "dK93zgoWhQA3"
      }
    },
    {
      "cell_type": "code",
      "source": [
        "df = pd.read_csv(\"/content/drive/MyDrive/datasets/Gapminder.csv\", error_bad_lines=False, sep=\";\") \n",
        "# , error_bad_lines=False(Ignorar linhas com erros)\n",
        "# sep=\";\" (Adcionando um separador)"
      ],
      "metadata": {
        "id": "upH3WsMqgLR_"
      },
      "execution_count": null,
      "outputs": []
    },
    {
      "cell_type": "code",
      "source": [
        "df = df.rename(columns={\"country\":\"País\",\"continent\":\"Continente\",\"year\":\"Ano\",\"lifeExp\":\"Expec. Vida\", \"pop\":\"Pop. Total\", \"gdpPercap\":\"PIB\"})\n",
        "# Renomeando as colunas, usado dicionário"
      ],
      "metadata": {
        "id": "KeI6V548gzux"
      },
      "execution_count": null,
      "outputs": []
    },
    {
      "cell_type": "code",
      "source": [
        "df.head()\n",
        "# Visualizando as 5 primeiras linhas"
      ],
      "metadata": {
        "id": "Bezrw59wi6KN"
      },
      "execution_count": null,
      "outputs": []
    },
    {
      "cell_type": "code",
      "source": [
        "df.shape\n",
        "# Total de linhas, total de colunas"
      ],
      "metadata": {
        "id": "wP7ttbB-jvUU"
      },
      "execution_count": null,
      "outputs": []
    },
    {
      "cell_type": "code",
      "source": [
        "df.columns\n",
        "# Nome das colunas"
      ],
      "metadata": {
        "id": "ayP6xtv7kUKN"
      },
      "execution_count": null,
      "outputs": []
    },
    {
      "cell_type": "code",
      "source": [
        "df.dtypes\n",
        "# Tipo de dados"
      ],
      "metadata": {
        "id": "W3dz0-O0l9Lj"
      },
      "execution_count": null,
      "outputs": []
    },
    {
      "cell_type": "code",
      "source": [
        "df.tail()\n",
        "# Ultimas linhas"
      ],
      "metadata": {
        "id": "IezpeTI4mDOO"
      },
      "execution_count": null,
      "outputs": []
    },
    {
      "cell_type": "code",
      "source": [
        "df.describe()\n",
        "# count = Total de linhas\n",
        "# mean = média\n",
        "# std = desvio padrão\n",
        "# min = valor mínimo\n",
        "# 25% = quartis\n",
        "# 50% = quartis\n",
        "# 75% = quartis\n",
        "# max = valor máximo"
      ],
      "metadata": {
        "id": "dui-dpEKmVeD"
      },
      "execution_count": null,
      "outputs": []
    },
    {
      "cell_type": "code",
      "source": [
        "df[\"Continente\"].unique()\n",
        "# Retornar apenas os valores únicos na coluna continente\n",
        "# nan = valor nulo"
      ],
      "metadata": {
        "id": "2xKIGqZfmid2"
      },
      "execution_count": null,
      "outputs": []
    },
    {
      "cell_type": "code",
      "source": [
        "Oceania = df.loc[df[\"Continente\"] == \"Oceania\"]\n",
        "Oceania.head()\n",
        "# df.loc = realizar filtro na base de dados"
      ],
      "metadata": {
        "id": "nmNoiKjtn3H9"
      },
      "execution_count": null,
      "outputs": []
    },
    {
      "cell_type": "code",
      "source": [
        "df.groupby(\"Continente\")[\"País\"].nunique()\n",
        "# Tráz a quantidade de paises por continente\n",
        "# groupby = agrupamento de dados"
      ],
      "metadata": {
        "id": "CVacJME3ojYD"
      },
      "execution_count": null,
      "outputs": []
    },
    {
      "cell_type": "code",
      "source": [
        "df.groupby(\"Ano\")[\"Expec. Vida\"].mean()\n",
        "# Agrupa por ano a media (mean) de expect. vida "
      ],
      "metadata": {
        "id": "igrSETgho6RH"
      },
      "execution_count": null,
      "outputs": []
    },
    {
      "cell_type": "code",
      "source": [
        "df[\"PIB\"].sum()\n",
        "# Soma dos valores de PIB"
      ],
      "metadata": {
        "id": "nCUqVIVip5u_"
      },
      "execution_count": null,
      "outputs": []
    },
    {
      "cell_type": "code",
      "source": [],
      "metadata": {
        "id": "Pq6po_6kqNv4"
      },
      "execution_count": null,
      "outputs": []
    }
  ]
}